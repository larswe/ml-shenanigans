{
 "cells": [
  {
   "cell_type": "code",
   "execution_count": 1,
   "metadata": {},
   "outputs": [],
   "source": [
    "from sklearn.datasets import fetch_openml\n",
    "import os\n",
    "\n",
    "DIGITS_PATH = os.path.join(\"datasets\", \"digits\")\n",
    "\n",
    "def fetch_digits_data(openml_name, version_num, digits_path=DIGITS_PATH):\n",
    "    os.makedirs(digits_path, exist_ok=True)\n",
    "    \n",
    "    mnist = fetch_openml(openml_name, version=version_num, data_home=digits_path)\n",
    "    return mnist\n",
    "\n",
    "mnist = fetch_digits_data(\"mnist_784\", 1)"
   ]
  },
  {
   "cell_type": "code",
   "execution_count": 2,
   "metadata": {},
   "outputs": [
    {
     "data": {
      "text/plain": [
       "dict_keys(['data', 'target', 'frame', 'categories', 'feature_names', 'target_names', 'DESCR', 'details', 'url'])"
      ]
     },
     "execution_count": 2,
     "metadata": {},
     "output_type": "execute_result"
    }
   ],
   "source": [
    "# Some of the keys in the dataset are common for Scikit-Learn, like:\n",
    "# - DESCR, describing the dataset\n",
    "# - data, containing an array with one row per instance and one column per feature\n",
    "# - target, containing an array with the labels\n",
    "\n",
    "mnist.keys()"
   ]
  },
  {
   "cell_type": "code",
   "execution_count": 3,
   "metadata": {},
   "outputs": [
    {
     "name": "stdout",
     "output_type": "stream",
     "text": [
      "Shape X: (70000, 784)\n",
      "Shape y: (70000,)\n"
     ]
    }
   ],
   "source": [
    "# We grab the data and labels\n",
    "\n",
    "X, y = mnist[\"data\"], mnist[\"target\"]\n",
    "print(\"Shape X:\", X.shape)\n",
    "print(\"Shape y:\", y.shape)"
   ]
  },
  {
   "cell_type": "markdown",
   "metadata": {},
   "source": [
    "The dataset contains 70,000 images of hand-written digits, each with 28*28 pixels"
   ]
  },
  {
   "cell_type": "code",
   "execution_count": 4,
   "metadata": {},
   "outputs": [
    {
     "name": "stdout",
     "output_type": "stream",
     "text": [
      "Raw shape of digit: (784,)\n",
      "Shape of associated image: (28, 28)\n"
     ]
    },
    {
     "data": {
      "image/png": "[encoded data removed]",
      "text/plain": [
       "<Figure size 432x288 with 1 Axes>"
      ]
     },
     "metadata": {
      "needs_background": "light"
     },
     "output_type": "display_data"
    },
    {
     "name": "stdout",
     "output_type": "stream",
     "text": [
      "The digit in the image is a 5\n"
     ]
    }
   ],
   "source": [
    "# We inspect one of the digits, or rather the associated image & label\n",
    "\n",
    "import matplotlib as mpl\n",
    "import matplotlib.pyplot as plt\n",
    "\n",
    "some_digit = X[0]\n",
    "print(\"Raw shape of digit:\", some_digit.shape)\n",
    "some_digit_image = some_digit.reshape(28,28)\n",
    "print(\"Shape of associated image:\", some_digit_image.shape)\n",
    "\n",
    "plt.imshow(some_digit_image, cmap=\"binary\")\n",
    "plt.axis(\"off\")\n",
    "plt.show()\n",
    "\n",
    "print(\"The digit in the image is a\", y[0])"
   ]
  },
  {
   "cell_type": "code",
   "execution_count": 5,
   "metadata": {},
   "outputs": [],
   "source": [
    "# Since most ML algorithms expect numbers, we cast the labels from string to integer\n",
    "\n",
    "import numpy as np\n",
    "\n",
    "y = y.astype(np.uint8)"
   ]
  },
  {
   "cell_type": "code",
   "execution_count": 6,
   "metadata": {},
   "outputs": [],
   "source": [
    "# The MNIST dataset is already shuffled and split into training and test sets, so we say 'Thank you'\n",
    "\n",
    "X_train, X_test, y_train, y_test = X[:60000], X[60000:], y[:60000], y[60000:]"
   ]
  },
  {
   "cell_type": "markdown",
   "metadata": {},
   "source": [
    "For now, let's simplify the task and only try to identify the number 5."
   ]
  },
  {
   "cell_type": "code",
   "execution_count": 7,
   "metadata": {},
   "outputs": [],
   "source": [
    "# We create boolean masks for the 5-ness of our labels\n",
    "\n",
    "y_train_5 = (y_train == 5)\n",
    "y_test_5 = (y_test == 5)"
   ]
  },
  {
   "cell_type": "code",
   "execution_count": 8,
   "metadata": {},
   "outputs": [
    {
     "data": {
      "text/plain": [
       "SGDClassifier(random_state=42)"
      ]
     },
     "execution_count": 8,
     "metadata": {},
     "output_type": "execute_result"
    }
   ],
   "source": [
    "# We pick a Stochastic Gradient Descent (SDG) classifier for our first attempt. \n",
    "# It handles each training instance independently and is thus\n",
    "# - efficient at dealing with large datasets\n",
    "# - good for online learning\n",
    "\n",
    "from sklearn.linear_model import SGDClassifier\n",
    "\n",
    "sgd_clf = SGDClassifier(random_state=42)\n",
    "sgd_clf.fit(X_train, y_train_5)"
   ]
  },
  {
   "cell_type": "markdown",
   "metadata": {},
   "source": [
    "Does it recognize the 5 we looked at earlier?"
   ]
  },
  {
   "cell_type": "code",
   "execution_count": 9,
   "metadata": {},
   "outputs": [
    {
     "data": {
      "text/plain": [
       "array([ True])"
      ]
     },
     "execution_count": 9,
     "metadata": {},
     "output_type": "execute_result"
    }
   ],
   "source": [
    "sgd_clf.predict([some_digit])"
   ]
  },
  {
   "cell_type": "markdown",
   "metadata": {},
   "source": [
    "Nice. Let's use cross-validation to get a better feel for the accuracy of this classifier."
   ]
  },
  {
   "cell_type": "code",
   "execution_count": 10,
   "metadata": {},
   "outputs": [
    {
     "name": "stdout",
     "output_type": "stream",
     "text": [
      "Train index: [    1     3     4 ... 59994 59996 59998]\n",
      "Test index: [    0     2     6 ... 59995 59997 59999]\n",
      "0.9669 \n",
      "\n",
      "Train index: [    0     2     3 ... 59997 59998 59999]\n",
      "Test index: [    1    10    11 ... 59988 59989 59991]\n",
      "0.91625 \n",
      "\n",
      "Train index: [    0     1     2 ... 59995 59997 59999]\n",
      "Test index: [    3     4     5 ... 59994 59996 59998]\n",
      "0.96785 \n",
      "\n"
     ]
    }
   ],
   "source": [
    "# This is how we might implement cross-validation ourselves\n",
    "\n",
    "from sklearn.model_selection import StratifiedKFold\n",
    "from sklearn.base import clone \n",
    "\n",
    "skfolds = StratifiedKFold(n_splits=3, random_state=42, shuffle=True)\n",
    "\n",
    "for train_index, test_index in skfolds.split(X_train, y_train_5):\n",
    "    # Printing out the indices is of course not necessary, but I find it instructive\n",
    "    print(\"Train index:\", train_index)\n",
    "    print(\"Test index:\", test_index)\n",
    "    clone_clf = clone(sgd_clf)\n",
    "    X_train_folds = X_train[train_index]\n",
    "    y_train_folds = y_train_5[train_index]\n",
    "    X_test_fold = X_train[test_index]\n",
    "    y_test_fold = y_train_5[test_index]\n",
    "    \n",
    "    clone_clf.fit(X_train_folds, y_train_folds)\n",
    "    y_pred = clone_clf.predict(X_test_fold)\n",
    "    n_correct = sum(y_pred == y_test_fold)\n",
    "    print(n_correct / len(y_pred), \"\\n\")"
   ]
  },
  {
   "cell_type": "code",
   "execution_count": 11,
   "metadata": {},
   "outputs": [
    {
     "data": {
      "text/plain": [
       "array([0.95035, 0.96035, 0.9604 ])"
      ]
     },
     "execution_count": 11,
     "metadata": {},
     "output_type": "execute_result"
    }
   ],
   "source": [
    "# But if we don't need lots of control over the cross-validation, we might as well use cross_val_score()\n",
    "\n",
    "from sklearn.model_selection import cross_val_score\n",
    "\n",
    "cross_val_score(sgd_clf, X_train, y_train_5, cv=3, scoring=\"accuracy\")"
   ]
  },
  {
   "cell_type": "markdown",
   "metadata": {},
   "source": [
    "95+% accuracy on all folds? Madness! But let's not get ahead of ourselves. Even a classifier that predicts that no digit is a '5' would get accuracy values around 90%, as evidenced by the following classifier & results."
   ]
  },
  {
   "cell_type": "code",
   "execution_count": 12,
   "metadata": {},
   "outputs": [
    {
     "data": {
      "text/plain": [
       "array([0.91125, 0.90855, 0.90915])"
      ]
     },
     "execution_count": 12,
     "metadata": {},
     "output_type": "execute_result"
    }
   ],
   "source": [
    "from sklearn.base import BaseEstimator\n",
    "\n",
    "class Never5Classifier(BaseEstimator):\n",
    "    def fit(self, X, y=None):\n",
    "        return self\n",
    "    def predict(self, X):\n",
    "        # We just return False, len(X) times\n",
    "        return np.zeros((len(X), 1), dtype=bool) \n",
    "    \n",
    "never_5_clf = Never5Classifier()\n",
    "cross_val_score(never_5_clf, X_train, y_train_5, cv=3, scoring=\"accuracy\")"
   ]
  },
  {
   "cell_type": "markdown",
   "metadata": {},
   "source": [
    "So yeah... This shows why accuracy is generally not a great performance measure for classifiers, especially when dealing with skewed datasets such as the one we turned ours into."
   ]
  },
  {
   "cell_type": "code",
   "execution_count": 13,
   "metadata": {},
   "outputs": [],
   "source": [
    "# Confusion matrices are generally a better way of evaluating a classifier.\n",
    "# Because we don't wanna whip out our test set just yet, but also don't want to evaluate the classifier on \n",
    "# data it saw during training, we use cross_val_predict(), which performs K-fold-cv but returns the\n",
    "# predictions made on each fold, not the accuracy. \n",
    "\n",
    "from sklearn.model_selection import cross_val_predict \n",
    "\n",
    "y_train_pred = cross_val_predict(sgd_clf, X_train, y_train_5, cv=3)"
   ]
  },
  {
   "cell_type": "code",
   "execution_count": 17,
   "metadata": {},
   "outputs": [
    {
     "data": {
      "text/plain": [
       "array([[53892,   687],\n",
       "       [ 1891,  3530]])"
      ]
     },
     "execution_count": 17,
     "metadata": {},
     "output_type": "execute_result"
    }
   ],
   "source": [
    "# Now that y_train_pred contains predictions for all of our training data, we can compute the confusion matrix\n",
    "\n",
    "from sklearn.metrics import confusion_matrix\n",
    "\n",
    "confusion_matrix(y_train_5, y_train_pred)"
   ]
  },
  {
   "cell_type": "markdown",
   "metadata": {},
   "source": [
    ", where the top row accounts for the \"actual negative class\", whereas the left column accounts for the \"predicted negative class\".\n",
    "\n",
    "This is instructive, but some more concise metrics include\n",
    "- Precision: (TP/(TP + FP))\n",
    "- Recall:    (TP/(TP+FN))"
   ]
  },
  {
   "cell_type": "code",
   "execution_count": 19,
   "metadata": {},
   "outputs": [
    {
     "name": "stdout",
     "output_type": "stream",
     "text": [
      "Precision:\t 0.8370879772350012\n",
      "Recall:\t\t 0.6511713705958311\n"
     ]
    }
   ],
   "source": [
    "# Let's evaluate the precision & recall of our basic Stochastic Gradient Descent classifier\n",
    "\n",
    "from sklearn.metrics import precision_score, recall_score\n",
    "\n",
    "print(\"Precision:\\t\", precision_score(y_train_5, y_train_pred))\n",
    "print(\"Recall:\\t\\t\", recall_score(y_train_5, y_train_pred))"
   ]
  },
  {
   "cell_type": "markdown",
   "metadata": {},
   "source": [
    "This doesn't look as great as the 95+ accuracy percentages we got earlier. \n",
    "\n",
    "If we want a single value for evaluation, e.g. when comparing two classifiers, metrics like the F_1 score (harmonic mean of precision and recall) come in handy. The harmonic mean often is more suitable than the \"default\" mean, since it gives much more weight to low values, thus requiring both precision and recall to be high to yield a high result. \n",
    "\n",
    "If P is our precision and R is our recall, we get the following formula for the F_1 score:\n",
    "\n",
    "F_1 = 2 / ((1/P) + (1/R)) = 2 * ((P*R)/(P+R))"
   ]
  },
  {
   "cell_type": "code",
   "execution_count": 20,
   "metadata": {},
   "outputs": [
    {
     "data": {
      "text/plain": [
       "0.7325171197343846"
      ]
     },
     "execution_count": 20,
     "metadata": {},
     "output_type": "execute_result"
    }
   ],
   "source": [
    "# Getting the f1_score is simple, thanks to the f1_score() function\n",
    "\n",
    "from sklearn.metrics import f1_score\n",
    "\n",
    "f1_score(y_train_5, y_train_pred)"
   ]
  },
  {
   "cell_type": "markdown",
   "metadata": {},
   "source": [
    "Note: The F_1 score favors classifiers that have similar precision and recall and is thus suitable when that is what we want."
   ]
  },
  {
   "cell_type": "code",
   "execution_count": 15,
   "metadata": {
    "scrolled": true
   },
   "outputs": [
    {
     "data": {
      "text/plain": [
       "['models/digits/stochastic_gradient_descent.pkl']"
      ]
     },
     "execution_count": 15,
     "metadata": {},
     "output_type": "execute_result"
    }
   ],
   "source": [
    "# Before we do anything else, let's save even this basic model, because we know it's good practice\n",
    "\n",
    "import joblib\n",
    "\n",
    "os.mkdir(\"models/digits\")\n",
    "joblib.dump(sgd_clf, \"models/digits/stochastic_gradient_descent.pkl\")"
   ]
  },
  {
   "cell_type": "markdown",
   "metadata": {},
   "source": [
    "There's a trade-off between precision and recall. What if we want to favor one over the other?\n",
    "The SGD classifier computes a score for each instance, based on a decision function. In our examples, all digits with a score above a certain threshold are classified as '5'. How can we set the threshold?"
   ]
  },
  {
   "cell_type": "code",
   "execution_count": 22,
   "metadata": {},
   "outputs": [
    {
     "name": "stdout",
     "output_type": "stream",
     "text": [
      "Score: [2164.22030239]\n",
      "Prediction if threshold=0:\t [ True]\n",
      "Prediction if threshold=8000:\t [False]\n"
     ]
    }
   ],
   "source": [
    "# Instead of calling the classifier's predict() method, we can call its decision_function() method, and\n",
    "# then use any threshold we like to classify each instance. \n",
    "\n",
    "y_scores = sgd_clf.decision_function([some_digit])\n",
    "print(\"Score:\", y_scores)\n",
    "\n",
    "threshold = 0\n",
    "y_some_digit_pred = (y_scores > threshold)\n",
    "print(\"Prediction if threshold=0:\\t\", y_some_digit_pred)\n",
    "\n",
    "threshold = 8000\n",
    "y_some_digit_pred = (y_scores > threshold)\n",
    "print(\"Prediction if threshold=8000:\\t\", y_some_digit_pred)"
   ]
  },
  {
   "cell_type": "markdown",
   "metadata": {},
   "source": [
    "So choosing the right threshold for our needs is important. How do we decide which threshold to use?"
   ]
  },
  {
   "cell_type": "code",
   "execution_count": 23,
   "metadata": {},
   "outputs": [],
   "source": [
    "# We start by getting the scores of all instances in the training set via cross_val_predict, with the \n",
    "# method parameter set to \"decision_function\"\n",
    "\n",
    "y_scores = cross_val_predict(sgd_clf, X_train, y_train_5, cv=3,\n",
    "                             method=\"decision_function\")"
   ]
  },
  {
   "cell_type": "code",
   "execution_count": 24,
   "metadata": {},
   "outputs": [],
   "source": [
    "# We can then compute precision and recall for all possible thresholds\n",
    "\n",
    "from sklearn.metrics import precision_recall_curve\n",
    "\n",
    "precisions, recalls, thresholds = precision_recall_curve(y_train_5, y_scores)"
   ]
  },
  {
   "cell_type": "code",
   "execution_count": 50,
   "metadata": {},
   "outputs": [],
   "source": [
    "# We can now identify the highest recall/precision for which we reach a certain precision, e.g. 90%\n",
    "\n",
    "# Note that np.argmax returns the first index at which (predictions>0.90) is \"True\"\n",
    "recall_90_precision = recalls[np.argmax(precisions >= 0.90)]\n",
    "threshold_90_precision = thresholds[np.argmax(precisions >= 0.90)]"
   ]
  },
  {
   "cell_type": "code",
   "execution_count": 54,
   "metadata": {},
   "outputs": [
    {
     "data": {
      "image/png": "[encoded data removed]",
      "text/plain": [
       "<Figure size 1080x432 with 1 Axes>"
      ]
     },
     "metadata": {
      "needs_background": "light"
     },
     "output_type": "display_data"
    }
   ],
   "source": [
    "# Finally, we plot precision and recall as functions of the threshold value\n",
    "\n",
    "def plot_precision_recall_vs_threshold(precisions, recalls, thresholds):\n",
    "    fig, ax = plt.subplots(figsize=(15, 6))\n",
    "    ax.plot(thresholds, precisions[:-1], \"b--\", label=\"Precision\")\n",
    "    ax.plot(thresholds, recalls[:-1], \"g-\", label=\"Recall\")\n",
    "    ax.set_xlim([-50000,50000])\n",
    "    ax.set_ylim([0., 1.])\n",
    "    plt.xlabel(\"Threshold\")\n",
    "    plt.legend()\n",
    "    \n",
    "    # Let's highlight the largest recall/threshold for which we get 90% precision\n",
    "    ax.plot([threshold_90_precision, threshold_90_precision], [0., 0.9], \"r:\")\n",
    "    ax.plot([-50000, threshold_90_precision], [0.9, 0.9], \"r:\")\n",
    "    ax.plot([-50000, threshold_90_precision], [recall_90_precision, recall_90_precision], \"r:\")\n",
    "    \n",
    "    ax.plot([threshold_90_precision], [recall_90_precision], \"ro\")\n",
    "    ax.plot([threshold_90_precision], [0.9], \"ro\")\n",
    "    \n",
    "    plt.grid()\n",
    "\n",
    "plot_precision_recall_vs_threshold(precisions, recalls, thresholds)\n",
    "plt.show()"
   ]
  },
  {
   "cell_type": "code",
   "execution_count": 55,
   "metadata": {},
   "outputs": [
    {
     "data": {
      "image/png": "[encoded data removed]",
      "text/plain": [
       "<Figure size 720x432 with 1 Axes>"
      ]
     },
     "metadata": {
      "needs_background": "light"
     },
     "output_type": "display_data"
    }
   ],
   "source": [
    "# Another way of showing the trade-off is to plot precision directly against recall\n",
    "\n",
    "def plot_precision_vs_recall(precisions, recalls, thresholds):\n",
    "    fig, ax = plt.subplots(figsize=(10, 6))\n",
    "    ax.plot(recalls[:-1], precisions[:-1], \"b--\")\n",
    "    ax.set_xlim([0., 1.])\n",
    "    ax.set_ylim([0., 1.])\n",
    "    plt.xlabel(\"Recall\")\n",
    "    plt.ylabel(\"Threshold\")\n",
    "    \n",
    "    # Let's again highlight the largest threshold for which we get 90% precision\n",
    "    ax.plot([recall_90_precision, recall_90_precision], [0., 0.9], \"r:\")\n",
    "    ax.plot([0., recall_90_precision], [0.9, 0.9], \"r:\")\n",
    "    \n",
    "    ax.plot([recall_90_precision], [0.9], \"ro\")\n",
    "    \n",
    "    plt.grid()\n",
    "    \n",
    "plot_precision_vs_recall(precisions, recalls, thresholds)\n",
    "plt.show()"
   ]
  },
  {
   "cell_type": "code",
   "execution_count": 57,
   "metadata": {},
   "outputs": [
    {
     "name": "stdout",
     "output_type": "stream",
     "text": [
      "Precision:\t 0.9000345901072293\n",
      "Recall:\t\t 0.4799852425751706\n"
     ]
    }
   ],
   "source": [
    "# We can also use the threshold_90_precision to make predictions with 90% accuracy, with the highest recall\n",
    "# possible\n",
    "\n",
    "y_train_pred_90 = (y_scores >= threshold_90_precision)\n",
    "\n",
    "print(\"Precision:\\t\", precision_score(y_train_5, y_train_pred_90))\n",
    "print(\"Recall:\\t\\t\", recall_score(y_train_5, y_train_pred_90))"
   ]
  },
  {
   "cell_type": "markdown",
   "metadata": {},
   "source": [
    "Fair enough, we got the precision we wanted! But the recall doesn't look too great.\n",
    "\n",
    "The receiver operating characteristic (ROC) curve is another tool often used with binary classifiers. \n",
    "It plots the \"true positive rate\"/recall/sensitivity against the \"false positive rate\"/1-\"true negative rate\"/1-specificity. "
   ]
  },
  {
   "cell_type": "code",
   "execution_count": 74,
   "metadata": {},
   "outputs": [],
   "source": [
    "# To plot the ROC curve, we first use roc_curve() to compute TPR&FPR for various threshold values\n",
    "\n",
    "from sklearn.metrics import roc_curve\n",
    "\n",
    "fpr, tpr, thresholds = roc_curve(y_train_5, y_scores)"
   ]
  },
  {
   "cell_type": "code",
   "execution_count": 110,
   "metadata": {},
   "outputs": [
    {
     "data": {
      "image/png": "[encoded data removed]",
      "text/plain": [
       "<Figure size 432x288 with 1 Axes>"
      ]
     },
     "metadata": {
      "needs_background": "light"
     },
     "output_type": "display_data"
    }
   ],
   "source": [
    "# We can then plot the ROC curve using Matplotlib\n",
    "\n",
    "def plot_roc_curve(fpr, tpr, label=None):\n",
    "    plt.plot(fpr, tpr, linewidth=2, label=label)\n",
    "    plt.plot([0, 1], [0, 1], \"k--\") # Dashed diagonal\n",
    "    plt.axis([0, 1, 0, 1])\n",
    "    plt.xlabel(\"False Positive Rate\")\n",
    "    plt.ylabel(\"True Positive Rate (Recall)\")\n",
    "    \n",
    "    plt.grid()\n",
    "\n",
    "plot_roc_curve(fpr, tpr)\n",
    "# We highlight the chosen ratio (at 43.68% recall)\n",
    "fpr_90_precision = fpr[np.argmin(thresholds >= threshold_90_precision)]\n",
    "plt.plot([fpr_90_precision, fpr_90_precision], [0., recall_90_precision], \"r:\")\n",
    "plt.plot(fpr_90_precision, recall_90_precision, \"ro\")\n",
    "plt.show()"
   ]
  },
  {
   "cell_type": "markdown",
   "metadata": {},
   "source": [
    "We can compare two classifiers by measuring the area under the (ROC) curve. A perfect classifier will have a \"ROC AUC\" of 1, whereas a purely random classifier will have a ROC AUC equal to 0.5. "
   ]
  },
  {
   "cell_type": "code",
   "execution_count": 62,
   "metadata": {},
   "outputs": [
    {
     "data": {
      "text/plain": [
       "0.9604938554008616"
      ]
     },
     "execution_count": 62,
     "metadata": {},
     "output_type": "execute_result"
    }
   ],
   "source": [
    "# We get the ROC AUC of our classifier by using Scikit-Learn's roc_auc_score()\n",
    "\n",
    "from sklearn.metrics import roc_auc_score\n",
    "\n",
    "roc_auc_score(y_train_5, y_scores)"
   ]
  },
  {
   "cell_type": "markdown",
   "metadata": {},
   "source": [
    "Rule of thumb: Use the PR curve when the positive class is rare, or when you care more about false positives than false negatives. Otherwise, use the ROC curve. \n",
    "Why is the ROC curve not as suitable in our case? \n",
    "Because it makes our classifier look really good, but mostly just because positives are rare, so the FPR tends to be low.\n",
    "\n",
    "But anyways, now that we have a nice way of comparing two classifiers, let's train a second classifier."
   ]
  },
  {
   "cell_type": "code",
   "execution_count": 63,
   "metadata": {},
   "outputs": [],
   "source": [
    "# The RandomForestClassifier has a predict_proba() method, which returns an array containing a row per \n",
    "# instance and a column per class, instead of a decision_function() method. \n",
    "\n",
    "from sklearn.ensemble import RandomForestClassifier\n",
    "\n",
    "forest_clf = RandomForestClassifier(random_state=42)\n",
    "y_probas_forest = cross_val_predict(forest_clf, X_train, y_train_5, cv=3,\n",
    "                                    method=\"predict_proba\")"
   ]
  },
  {
   "cell_type": "code",
   "execution_count": 64,
   "metadata": {},
   "outputs": [],
   "source": [
    "# roc_curve() expects labels and scores, but we can just use the positive class probability as score\n",
    "\n",
    "y_scores_forest = y_probas_forest[:, 1]\n",
    "fpr_forest, tpr_forest, thresholds_forest = roc_curve(y_train_5, y_scores_forest)"
   ]
  },
  {
   "cell_type": "code",
   "execution_count": 111,
   "metadata": {},
   "outputs": [
    {
     "data": {
      "image/png": "[encoded data removed]",
      "text/plain": [
       "<Figure size 432x288 with 1 Axes>"
      ]
     },
     "metadata": {
      "needs_background": "light"
     },
     "output_type": "display_data"
    }
   ],
   "source": [
    "# Now we plot the ROC curve\n",
    "\n",
    "plt.plot(fpr, tpr, \"b:\", label=\"SGD\")\n",
    "plot_roc_curve(fpr_forest, tpr_forest, \"Random Forest\")\n",
    "# We highlight the TPR we get for the FPR for which we got 90% precision with the SGD classifier.\n",
    "# The np.min() usage serves the same purpose as the np.argmax() equivalent we used for the SGD's fpr. \n",
    "plt.plot([fpr_90_precision, fpr_90_precision], [0., np.min(tpr_forest[fpr_forest >= fpr_90_precision])], \"r:\")\n",
    "plt.plot(fpr_90_precision, np.min(tpr_forest[fpr_forest >= fpr_90_precision]), \"ro\")\n",
    "# We compare it to the according \"old\" TPR value\n",
    "plt.plot(fpr_90_precision, recall_90_precision, \"ro\")\n",
    "plt.legend(loc=\"lower right\")\n",
    "plt.show()"
   ]
  },
  {
   "cell_type": "code",
   "execution_count": 112,
   "metadata": {},
   "outputs": [
    {
     "data": {
      "text/plain": [
       "0.9983436731328145"
      ]
     },
     "execution_count": 112,
     "metadata": {},
     "output_type": "execute_result"
    }
   ],
   "source": [
    "# We evaluate the ROC AUC of our Random Forest Classifier\n",
    "\n",
    "roc_auc_score(y_train_5, y_scores_forest)"
   ]
  },
  {
   "cell_type": "markdown",
   "metadata": {},
   "source": [
    "Nice! Our Random Forest Classifier looks much better than our Stochastic Gradient Descent classifier."
   ]
  },
  {
   "cell_type": "code",
   "execution_count": 114,
   "metadata": {},
   "outputs": [
    {
     "name": "stdout",
     "output_type": "stream",
     "text": [
      "Precision:\t 0.9905083315756169\n",
      "Recall:\t\t 0.8662608374838591\n"
     ]
    }
   ],
   "source": [
    "# Now let's grab the precision and recall scores for our new classifier\n",
    "\n",
    "y_train_pred_forest = cross_val_predict(forest_clf, X_train, y_train_5, cv=3)\n",
    "print(\"Precision:\\t\", precision_score(y_train_5, y_train_pred_forest))\n",
    "print(\"Recall:\\t\\t\", recall_score(y_train_5, y_train_pred_forest))"
   ]
  },
  {
   "cell_type": "markdown",
   "metadata": {},
   "source": [
    "Nice, that will do! Let's save this model. "
   ]
  },
  {
   "cell_type": "code",
   "execution_count": 115,
   "metadata": {},
   "outputs": [
    {
     "data": {
      "text/plain": [
       "['models/digits/random_forest_classifier.pkl']"
      ]
     },
     "execution_count": 115,
     "metadata": {},
     "output_type": "execute_result"
    }
   ],
   "source": [
    "joblib.dump(forest_clf, \"models/digits/random_forest_classifier.pkl\")"
   ]
  },
  {
   "cell_type": "markdown",
   "metadata": {},
   "source": [
    "We found a really good classifier to determine whether a digit is a 5 or not. But we obviously want to be able to identify each digit, not just one of them. What we need is \"Multiclass Classification\".\n",
    "\n",
    "Using an algorithm which supports this natively would be relatively easy. But even strictly binary classifiers (like Support Vector Machines) can work. There are two main approaches:\n",
    "- One versus the Rest: Train 10 binary classifiers, one for each digit. Then always choose the class with the highest decision score\n",
    "- One versus One: Train 10*(10-1)/2 = 45 classifiers, one to distinguish between each pair of digits. Then always choose the class which \"won the most duels\". "
   ]
  },
  {
   "cell_type": "code",
   "execution_count": 116,
   "metadata": {},
   "outputs": [
    {
     "data": {
      "text/plain": [
       "array([5], dtype=uint8)"
      ]
     },
     "execution_count": 116,
     "metadata": {},
     "output_type": "execute_result"
    }
   ],
   "source": [
    "# Scikit-Learn detects automatically if OvR or OvO is preferable for the binary classifier we want to train\n",
    "# for Multiclass Classification. \n",
    "\n",
    "from sklearn.svm import SVC \n",
    "\n",
    "svm_clf = SVC()\n",
    "svm_clf.fit(X_train, y_train) # NOT y_train_5\n",
    "svm_clf.predict([some_digit])"
   ]
  },
  {
   "cell_type": "markdown",
   "metadata": {},
   "source": [
    "That worked! Under the hood, Scikit-Learn used the OvO strategy, trained 45 classifiers and let them battle it out."
   ]
  },
  {
   "cell_type": "code",
   "execution_count": 117,
   "metadata": {},
   "outputs": [],
   "source": [
    "# We call decision_function() and observe a score for each of our 10 classes. \n",
    "\n",
    "some_digit_scores = svm_clf.decision_function([some_digit])"
   ]
  },
  {
   "cell_type": "code",
   "execution_count": null,
   "metadata": {},
   "outputs": [],
   "source": [
    "# We can confirm that class 5 indeed got the highest score\n",
    "\n",
    "print(\"Argmax:\\t\", np.argmax(some_digit_scores))\n",
    "print(\"Classes:\", svm_clf.classes_)\n",
    "print(\"Winner:\\t\", svm_clf.classes_[5])"
   ]
  },
  {
   "cell_type": "markdown",
   "metadata": {},
   "source": [
    "The fact that the class \"5\" actually corresponds to index 5 is very convenient and occurs because the values in the classes_ attribute are automatically ordered by value."
   ]
  },
  {
   "cell_type": "code",
   "execution_count": null,
   "metadata": {},
   "outputs": [],
   "source": [
    "joblib.dump(svm_clf, \"models/digits/multiclass_support_vector_machine_classifier.pkl\")"
   ]
  },
  {
   "cell_type": "code",
   "execution_count": null,
   "metadata": {},
   "outputs": [],
   "source": [
    "# If for some reason, we want to force Scikit-Learn to use the OneVsOneClassifier or OneVsRestClassifier, \n",
    "# we can. We simply create an instance of the corresponding class, passing our classifier of choice to its \n",
    "# constructor. \n",
    "\n",
    "from sklearn.multiclass import OneVsRestClassifier\n",
    "\n",
    "ovr_clf = OneVsRestClassifier(SVC())\n",
    "ovr_clf.fit(X_train, y_train)\n",
    "\n",
    "print(\"Winner:\\t\", ovr_clf.predict([some_digit]))\n",
    "print(\"Num. Estimators:\\t\", len(ovr_clf.estimators_))"
   ]
  },
  {
   "cell_type": "code",
   "execution_count": null,
   "metadata": {},
   "outputs": [],
   "source": [
    "# We save the classifier, because that's how we roll. \n",
    "\n",
    "joblib.dump(ovr_clf, \"models/digits/multiclass_ovr_support_vector_machine_classifier.pkl\")"
   ]
  },
  {
   "cell_type": "code",
   "execution_count": null,
   "metadata": {},
   "outputs": [],
   "source": [
    "# Training a classifier which can deal with Multiclass Classification natively is even easier\n",
    "\n",
    "sgd_clf.fit(X_train, y_train)\n",
    "sgd_clf.predict([some_digit])"
   ]
  },
  {
   "cell_type": "code",
   "execution_count": null,
   "metadata": {},
   "outputs": [],
   "source": [
    "# We can inspect how confident the SGD classifier was about its prediction\n",
    "\n",
    "sgd_clf.decision_function([some_digit])"
   ]
  },
  {
   "cell_type": "markdown",
   "metadata": {},
   "source": [
    "Fairly confident. "
   ]
  },
  {
   "cell_type": "code",
   "execution_count": null,
   "metadata": {},
   "outputs": [],
   "source": [
    "# To evaluate this classifier, we can use cross_val_score()\n",
    "\n",
    "cross_val_score(sgd_clf, X_train, y_train, cv=3, scoring=\"accuracy\")"
   ]
  },
  {
   "cell_type": "markdown",
   "metadata": {},
   "source": [
    "Those results are pretty decent, but we can still do much better."
   ]
  },
  {
   "cell_type": "code",
   "execution_count": null,
   "metadata": {},
   "outputs": [],
   "source": [
    "# For starters, we can scale the input data using the StandardScaler class. \n",
    "\n",
    "from sklearn.preprocessing import StandardScaler\n",
    "\n",
    "scaler = StandardScaler()\n",
    "X_train_scaled = scaler.fit_transform(X_train.astype(np.float64))\n",
    "cross_val_score(sgd_clf, X_train_scaled, y_train, cv=3, scoring=\"accuracy\")"
   ]
  },
  {
   "cell_type": "markdown",
   "metadata": {},
   "source": [
    "That's alright. But we're making errors. We should figure out why this occurs, by analyzing our errors. "
   ]
  },
  {
   "cell_type": "code",
   "execution_count": null,
   "metadata": {},
   "outputs": [],
   "source": []
  }
 ],
 "metadata": {
  "kernelspec": {
   "display_name": "Python 3",
   "language": "python",
   "name": "python3"
  },
  "language_info": {
   "codemirror_mode": {
    "name": "ipython",
    "version": 3
   },
   "file_extension": ".py",
   "mimetype": "text/x-python",
   "name": "python",
   "nbconvert_exporter": "python",
   "pygments_lexer": "ipython3",
   "version": "3.8.2"
  }
 },
 "nbformat": 4,
 "nbformat_minor": 4
}
