{
 "cells": [
  {
   "cell_type": "markdown",
   "metadata": {},
   "source": [
    "First, we'll look at how to train a linear regression model."
   ]
  },
  {
   "cell_type": "code",
   "execution_count": 1,
   "metadata": {},
   "outputs": [],
   "source": [
    "# Let's produce a randomly generated linear dataset\n",
    "\n",
    "import numpy as np\n",
    "\n",
    "# Generate 100 x values from 0 to 2\n",
    "X = 2 * np.random.rand(100, 1)\n",
    "# Generate 100 y values around the line 4 + 3*x, with some normally distributed noise\n",
    "y = 4 + 3 * X + np.random.randn(100, 1)"
   ]
  },
  {
   "cell_type": "code",
   "execution_count": 2,
   "metadata": {},
   "outputs": [
    {
     "data": {
      "image/png": "[encoded data removed]",
      "text/plain": [
       "<Figure size 432x288 with 1 Axes>"
      ]
     },
     "metadata": {
      "needs_background": "light"
     },
     "output_type": "display_data"
    }
   ],
   "source": [
    "# Let's plot the data\n",
    "\n",
    "import matplotlib.pyplot as plt\n",
    "\n",
    "plt.figure()\n",
    "plt.xlabel(\"X\\N{SUBSCRIPT ONE}\", fontsize=16)\n",
    "plt.ylabel(\"y\", fontsize=16)\n",
    "plt.scatter(X, y, s=16)\n",
    "plt.axis([0,2,0,14])\n",
    "plt.show()"
   ]
  },
  {
   "cell_type": "markdown",
   "metadata": {},
   "source": [
    "For linear regression models, we typically use an MSE(Mean Squared Error) cost function, which we want to minimize. \n",
    "\n",
    "There is a closed-form solution for the vector theta that does so, where y_pred = theta_0 + theta_1*x is our estimate for the line.\n",
    "\n",
    "The formula is:\n",
    "\n",
    "theta = (X^T*X)^(-1) * X^T * y, \n",
    "\n",
    "where y is the vector containing all y values in our training set, and where X = (x_1, ..., x_n) contains row vectors x_i^T = (1, x)."
   ]
  },
  {
   "cell_type": "code",
   "execution_count": 13,
   "metadata": {},
   "outputs": [
    {
     "data": {
      "text/plain": [
       "array([[3.99507661],\n",
       "       [2.97513238]])"
      ]
     },
     "execution_count": 13,
     "metadata": {},
     "output_type": "execute_result"
    }
   ],
   "source": [
    "# We glue a row of ones to the top of our X matrix, before computing the cost-minimizing vector theta\n",
    "\n",
    "X_b = np.c_[np.ones((100, 1)), X]\n",
    "\n",
    "theta_best = np.linalg.inv(X_b.T.dot(X_b)).dot(X_b.T).dot(y)\n",
    "\n",
    "theta_best"
   ]
  },
  {
   "cell_type": "markdown",
   "metadata": {},
   "source": [
    "Our model predicts the line 4 + 2.98*x, which is... shockingly close to the values we would have hoped for."
   ]
  },
  {
   "cell_type": "code",
   "execution_count": 16,
   "metadata": {},
   "outputs": [
    {
     "data": {
      "text/plain": [
       "array([[3.99507661],\n",
       "       [9.94534137]])"
      ]
     },
     "execution_count": 16,
     "metadata": {},
     "output_type": "execute_result"
    }
   ],
   "source": [
    "# Now, given the x value of a new data point, we can make a prediction for the corresponding y-value, using our model\n",
    "\n",
    "X_new = np.array([[0], [2]])\n",
    "X_new_b = np.c_[np.ones((2, 1)), X_new]\n",
    "y_predict = X_new_b.dot(theta_best)\n",
    "y_predict"
   ]
  },
  {
   "cell_type": "markdown",
   "metadata": {},
   "source": [
    "Our model predicts the points (0, 4) and (2, 9.95)."
   ]
  },
  {
   "cell_type": "code",
   "execution_count": 25,
   "metadata": {},
   "outputs": [
    {
     "data": {
      "image/png": "[encoded data removed]",
      "text/plain": [
       "<Figure size 432x288 with 1 Axes>"
      ]
     },
     "metadata": {
      "needs_background": "light"
     },
     "output_type": "display_data"
    }
   ],
   "source": [
    "# We can add the model's predictions to our previous plot\n",
    "\n",
    "pred, = plt.plot(X_new, y_predict, \"r-\")\n",
    "pred.set_label(\"Predictions\")\n",
    "plt.legend()\n",
    "plt.plot(X, y, \"b.\")\n",
    "plt.axis([0, 2, 0, 15])\n",
    "plt.xlabel(\"X\\N{SUBSCRIPT ONE}\", fontsize=16)\n",
    "plt.ylabel(\"y\", fontsize=16)\n",
    "plt.show()"
   ]
  },
  {
   "cell_type": "markdown",
   "metadata": {},
   "source": [
    "So we now know how to train a linear regression model \"manually\". Performing it using Scikit-Learn is simpler:"
   ]
  },
  {
   "cell_type": "code",
   "execution_count": 38,
   "metadata": {},
   "outputs": [
    {
     "name": "stdout",
     "output_type": "stream",
     "text": [
      "θ₀, θ₁ = [3.99507661] [[2.97513238]]\n",
      "y predictions:\n"
     ]
    },
    {
     "data": {
      "text/plain": [
       "array([[3.99507661],\n",
       "       [9.94534137]])"
      ]
     },
     "execution_count": 38,
     "metadata": {},
     "output_type": "execute_result"
    }
   ],
   "source": [
    "from sklearn.linear_model import LinearRegression\n",
    "\n",
    "lin_reg = LinearRegression()\n",
    "lin_reg.fit(X, y)\n",
    "print(\"\\N{Greek Small Letter Theta}\\N{SUBSCRIPT ZERO}, \\N{Greek Small Letter Theta}\\N{SUBSCRIPT ONE} =\", lin_reg.intercept_, lin_reg.coef_)\n",
    "print(\"y predictions:\")\n",
    "lin_reg.predict(X_new)"
   ]
  },
  {
   "cell_type": "markdown",
   "metadata": {},
   "source": [
    "The Linear Regression class is based on the scipy.linalg.lstsq() (\"least squares\") function. \n",
    "\n",
    "lstsq(A, b) computes the vector x which minimizes the squared Euclidean distance between A*x and b and returns it, together with the sums of residuals for each column (useful for figuring out if a linear model is appropriate), the rank & \"singular values\" of A.\n",
    "\n",
    "We can also call it directly if we're feeling pretty low-level:"
   ]
  },
  {
   "cell_type": "code",
   "execution_count": 42,
   "metadata": {},
   "outputs": [
    {
     "name": "stdout",
     "output_type": "stream",
     "text": [
      "Model:\n",
      "[[3.99507661]\n",
      " [2.97513238]] \n",
      "\n",
      "Residuals:\n",
      "[123.38467431] \n",
      "\n",
      "Rank:\n",
      "2 \n",
      "\n",
      "Singular values:\n",
      "[14.47779126  3.64164471] \n",
      "\n"
     ]
    }
   ],
   "source": [
    "theta_best_svd, residuals, rank, s = np.linalg.lstsq(X_b, y, rcond=1e-6)\n",
    "print(\"Model:\")\n",
    "print(theta_best_svd, \"\\n\")\n",
    "print(\"Residuals:\")\n",
    "print(residuals, \"\\n\")\n",
    "print(\"Rank:\")\n",
    "print(rank, \"\\n\")\n",
    "print(\"Singular values:\")\n",
    "print(s, \"\\n\")"
   ]
  },
  {
   "cell_type": "markdown",
   "metadata": {},
   "source": [
    "The function computes $\\hat{\\theta}=X^+y$, where $X^+$ is the *pseudoinverse* (or more precisely, the Moore-Penrose inverse) of X...\n",
    "\n",
    "which we can also compute directly by using np.linalg.pinv() if we are feeling even more low-level:"
   ]
  },
  {
   "cell_type": "code",
   "execution_count": 47,
   "metadata": {},
   "outputs": [
    {
     "data": {
      "text/plain": [
       "array([[3.99507661],\n",
       "       [2.97513238]])"
      ]
     },
     "execution_count": 47,
     "metadata": {},
     "output_type": "execute_result"
    }
   ],
   "source": [
    "np.linalg.pinv(X_b).dot(y)"
   ]
  },
  {
   "cell_type": "markdown",
   "metadata": {},
   "source": [
    "Indeed, we can get EVEN DEEPER by using Singular Value Decomposition (see np.linalg.svd()) to find the pseudoinverse, but that is a topic for another day. "
   ]
  }
 ],
 "metadata": {
  "kernelspec": {
   "display_name": "Python 3",
   "language": "python",
   "name": "python3"
  },
  "language_info": {
   "name": ""
  }
 },
 "nbformat": 4,
 "nbformat_minor": 4
}
